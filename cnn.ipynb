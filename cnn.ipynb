{
 "cells": [
  {
   "cell_type": "code",
   "execution_count": 1,
   "id": "e9477f36-9036-4425-af2c-e1759c65b9c6",
   "metadata": {},
   "outputs": [],
   "source": [
    "import os\n",
    "import torch\n",
    "import torch.nn as nn\n",
    "import torch.optim as optim\n",
    "from torch.utils.data import Dataset\n",
    "from torchvision import transforms\n",
    "from torch.utils.data import random_split, DataLoader\n",
    "from PIL import Image\n",
    "import matplotlib.pyplot as plt"
   ]
  },
  {
   "cell_type": "markdown",
   "id": "348f6350-1a47-4926-9fb9-a534ed6ffa6f",
   "metadata": {},
   "source": [
    "**Create Custom DataLoader**\n",
    "\n",
    "The CarDataset class is a custom dataset loader that loads vehicle images from the specified folder and associates them with labels."
   ]
  },
  {
   "cell_type": "code",
   "execution_count": 2,
   "id": "dbcca8ad-8883-4828-92ad-c46f868d5a8e",
   "metadata": {},
   "outputs": [],
   "source": [
    "class CarDataset(Dataset):\n",
    "    def __init__(self, image_dir, transform=None):\n",
    "        self.image_dir = image_dir\n",
    "        self.transform = transform\n",
    "        self.image_files = []\n",
    "\n",
    "        # Remove i index for final version\n",
    "        i = 0\n",
    "        for f in os.listdir(image_dir):\n",
    "            if i == 10000:\n",
    "                break\n",
    "                \n",
    "            if os.path.isfile(os.path.join(image_dir, f)):\n",
    "                self.image_files.append(f)\n",
    "\n",
    "            i = i + 1\n",
    "        # Sort the list of image files\n",
    "        self.image_files.sort()\n",
    "\n",
    "    def __len__(self):\n",
    "        return len(self.image_files)\n",
    "\n",
    "    def __getitem__(self, idx):\n",
    "        img_path = os.path.join(self.image_dir, self.image_files[idx])\n",
    "        image = Image.open(img_path)\n",
    "        \n",
    "        # Extract vehicle ID from filename\n",
    "        label = int(self.image_files[idx].split('_')[0]) - 1\n",
    "        \n",
    "        if self.transform:\n",
    "            image = self.transform(image)\n",
    "        \n",
    "        return (image, label)"
   ]
  },
  {
   "cell_type": "markdown",
   "id": "f90e1675-0f00-42dc-820a-b5bc3d6e4ebf",
   "metadata": {},
   "source": [
    "**Load Dataset and Transform Images into Tensors**"
   ]
  },
  {
   "cell_type": "code",
   "execution_count": 3,
   "id": "8a478c83-be12-40bd-a085-87cadd1fd7bf",
   "metadata": {},
   "outputs": [
    {
     "name": "stdout",
     "output_type": "stream",
     "text": [
      "10000\n",
      "torch.Size([3, 128, 128])\n"
     ]
    }
   ],
   "source": [
    "transform = transforms.Compose([\n",
    "    transforms.Resize((128, 128)),\n",
    "    transforms.ToTensor(),\n",
    "    transforms.Normalize(mean=[0.485, 0.456, 0.406], std=[0.229, 0.224, 0.225]),\n",
    "])\n",
    "dataset = CarDataset(image_dir='VID_ReID_Simulation', transform=transform)\n",
    "\n",
    "print(len(dataset))\n",
    "print(dataset[0][0].shape)"
   ]
  },
  {
   "cell_type": "markdown",
   "id": "b754661b-1d61-412b-bcbc-ed9d78bfdf52",
   "metadata": {},
   "source": [
    "**Split into Training and Testing Sets**"
   ]
  },
  {
   "cell_type": "code",
   "execution_count": 10,
   "id": "fb045b21-dcc9-480e-a947-830b995d192a",
   "metadata": {},
   "outputs": [],
   "source": [
    "train_size = int(0.8 * len(dataset))\n",
    "test_size = len(dataset) - train_size\n",
    "train_dataset, test_dataset = random_split(dataset, [train_size, test_size])\n",
    "\n",
    "train_loader = DataLoader(dataset=train_dataset, batch_size=16, shuffle=True)\n",
    "test_loader = DataLoader(dataset=train_dataset, batch_size=16)"
   ]
  },
  {
   "cell_type": "markdown",
   "id": "c16418f9-2694-42b6-a4fd-5fd6d1c1d1aa",
   "metadata": {},
   "source": [
    "**Define the Neural Network**"
   ]
  },
  {
   "cell_type": "code",
   "execution_count": 11,
   "id": "cae12a1b-1ad6-457e-996a-9ae7f78a8455",
   "metadata": {},
   "outputs": [],
   "source": [
    "class ConvNet(nn.Module):\n",
    "    def __init__(self, num_classes=1362):\n",
    "        super(ConvNet, self).__init__()\n",
    "        self.conv1 = nn.Conv2d(3, 32, kernel_size=3, stride=1, padding=1)\n",
    "        self.conv2 = nn.Conv2d(32, 64, kernel_size=3, stride=1, padding=1)\n",
    "        self.conv3 = nn.Conv2d(64, 128, kernel_size=3, stride=1, padding=1)\n",
    "        self.pool = nn.MaxPool2d(kernel_size=2, stride=2, padding=0)\n",
    "        self.fc1 = nn.Linear(128 * 16 * 16, 512)\n",
    "        self.fc2 = nn.Linear(512, num_classes)\n",
    "        self.relu = nn.ReLU()\n",
    "        self.dropout = nn.Dropout(0.5)\n",
    "\n",
    "    def forward(self, x):\n",
    "        x = self.pool(self.relu(self.conv1(x)))\n",
    "        x = self.pool(self.relu(self.conv2(x)))\n",
    "        x = self.pool(self.relu(self.conv3(x)))\n",
    "        x = x.view(-1, 128 * 16 * 16)\n",
    "        x = self.dropout(self.relu(self.fc1(x)))\n",
    "        x = self.fc2(x)\n",
    "        return x\n",
    "\n",
    "\n",
    "# Device Configuration\n",
    "device = torch.device('cuda' if torch.cuda.is_available() else 'cpu')\n",
    "\n",
    "# Initialise network\n",
    "model = ConvNet().to(device)"
   ]
  },
  {
   "cell_type": "code",
   "execution_count": 12,
   "id": "f79901d8-8997-4dcf-a54c-2ea050601f9a",
   "metadata": {},
   "outputs": [
    {
     "name": "stdout",
     "output_type": "stream",
     "text": [
      "Epoch [1/10], Step [100/500], Loss: 5.0936\n",
      "Epoch [1/10], Step [200/500], Loss: 3.7060\n",
      "Epoch [1/10], Step [300/500], Loss: 3.4193\n",
      "Epoch [1/10], Step [400/500], Loss: 1.3904\n",
      "Epoch [1/10], Step [500/500], Loss: 2.2043\n",
      "Epoch [2/10], Step [100/500], Loss: 2.3877\n",
      "Epoch [2/10], Step [200/500], Loss: 0.8319\n",
      "Epoch [2/10], Step [300/500], Loss: 0.8149\n",
      "Epoch [2/10], Step [400/500], Loss: 2.4835\n",
      "Epoch [2/10], Step [500/500], Loss: 1.2092\n",
      "Epoch [3/10], Step [100/500], Loss: 0.9374\n",
      "Epoch [3/10], Step [200/500], Loss: 0.0880\n",
      "Epoch [3/10], Step [300/500], Loss: 0.7247\n",
      "Epoch [3/10], Step [400/500], Loss: 0.2422\n",
      "Epoch [3/10], Step [500/500], Loss: 0.8031\n",
      "Epoch [4/10], Step [100/500], Loss: 0.1211\n",
      "Epoch [4/10], Step [200/500], Loss: 0.3695\n",
      "Epoch [4/10], Step [300/500], Loss: 0.2303\n",
      "Epoch [4/10], Step [400/500], Loss: 0.2716\n",
      "Epoch [4/10], Step [500/500], Loss: 0.1979\n",
      "Epoch [5/10], Step [100/500], Loss: 0.2942\n",
      "Epoch [5/10], Step [200/500], Loss: 0.1596\n",
      "Epoch [5/10], Step [300/500], Loss: 0.0706\n",
      "Epoch [5/10], Step [400/500], Loss: 0.7284\n",
      "Epoch [5/10], Step [500/500], Loss: 0.7507\n",
      "Epoch [6/10], Step [100/500], Loss: 0.4228\n",
      "Epoch [6/10], Step [200/500], Loss: 0.3340\n",
      "Epoch [6/10], Step [300/500], Loss: 0.4469\n",
      "Epoch [6/10], Step [400/500], Loss: 0.0159\n",
      "Epoch [6/10], Step [500/500], Loss: 0.4404\n",
      "Epoch [7/10], Step [100/500], Loss: 0.5505\n",
      "Epoch [7/10], Step [200/500], Loss: 0.8159\n",
      "Epoch [7/10], Step [300/500], Loss: 0.6545\n",
      "Epoch [7/10], Step [400/500], Loss: 0.3308\n",
      "Epoch [7/10], Step [500/500], Loss: 0.2455\n",
      "Epoch [8/10], Step [100/500], Loss: 0.1021\n",
      "Epoch [8/10], Step [200/500], Loss: 0.0010\n",
      "Epoch [8/10], Step [300/500], Loss: 0.2046\n",
      "Epoch [8/10], Step [400/500], Loss: 0.7616\n",
      "Epoch [8/10], Step [500/500], Loss: 0.1475\n",
      "Epoch [9/10], Step [100/500], Loss: 0.2035\n",
      "Epoch [9/10], Step [200/500], Loss: 0.2197\n",
      "Epoch [9/10], Step [300/500], Loss: 0.0366\n",
      "Epoch [9/10], Step [400/500], Loss: 0.2863\n",
      "Epoch [9/10], Step [500/500], Loss: 0.4384\n",
      "Epoch [10/10], Step [100/500], Loss: 0.0088\n",
      "Epoch [10/10], Step [200/500], Loss: 0.4786\n",
      "Epoch [10/10], Step [300/500], Loss: 0.0102\n",
      "Epoch [10/10], Step [400/500], Loss: 0.0308\n",
      "Epoch [10/10], Step [500/500], Loss: 0.5652\n"
     ]
    }
   ],
   "source": [
    "criterion = nn.CrossEntropyLoss()\n",
    "optimizer = optim.Adam(model.parameters(), lr=0.001)\n",
    "\n",
    "# Training the model\n",
    "num_epochs = 10\n",
    "for epoch in range(num_epochs):\n",
    "    for i, (inputs, labels) in enumerate(train_loader):\n",
    "        if torch.cuda.is_available():\n",
    "            inputs, labels = inputs.to(device), labels.to(device)\n",
    "        outputs = model(inputs)\n",
    "        loss = criterion(outputs, labels)\n",
    "        \n",
    "        optimizer.zero_grad()\n",
    "        loss.backward()\n",
    "        optimizer.step()\n",
    "\n",
    "       # Clearing unused GPU memory\n",
    "        torch.cuda.empty_cache()\n",
    "        \n",
    "        if (i+1) % 100 == 0:\n",
    "            print(f'Epoch [{epoch+1}/{num_epochs}], Step [{i+1}/{len(train_loader)}], Loss: {loss.item():.4f}')"
   ]
  },
  {
   "cell_type": "code",
   "execution_count": null,
   "id": "a52ec5b6-e6c5-4f1c-9403-7e7a9bebb9d5",
   "metadata": {},
   "outputs": [],
   "source": []
  }
 ],
 "metadata": {
  "kernelspec": {
   "display_name": "Python 3 (ipykernel)",
   "language": "python",
   "name": "python3"
  },
  "language_info": {
   "codemirror_mode": {
    "name": "ipython",
    "version": 3
   },
   "file_extension": ".py",
   "mimetype": "text/x-python",
   "name": "python",
   "nbconvert_exporter": "python",
   "pygments_lexer": "ipython3",
   "version": "3.9.13"
  }
 },
 "nbformat": 4,
 "nbformat_minor": 5
}
