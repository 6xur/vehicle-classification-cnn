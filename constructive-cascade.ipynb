{
 "cells": [
  {
   "cell_type": "code",
   "execution_count": 1,
   "id": "eda1c856-3cab-42de-848a-c00a4e270720",
   "metadata": {},
   "outputs": [],
   "source": [
    "import numpy as np\n",
    "import os\n",
    "import torch\n",
    "import torch.nn as nn\n",
    "import torch.optim as optim\n",
    "import torch.nn.functional as F\n",
    "import matplotlib.pyplot as plt"
   ]
  },
  {
   "cell_type": "code",
   "execution_count": 4,
   "id": "045a1aad-0485-4c30-8a9b-4fcc0bcef8c6",
   "metadata": {},
   "outputs": [],
   "source": [
    "def load_data(directory):\n",
    "    data = []\n",
    "    vehicle_ids = []\n",
    "\n",
    "    for i, file_name in enumerate(os.listdir(directory)):\n",
    "\n",
    "        # Limit elements in Tensor for performance purposes, remove this when ready for full scale training\n",
    "        if(i == 3000):\n",
    "            print(f'loaded {i}')\n",
    "            break\n",
    "            \n",
    "        # Extract vehicle IDs from the filename\n",
    "        vehicle_id = int(file_name.split('_')[0])\n",
    "        vehicle_ids.append(vehicle_id)\n",
    "\n",
    "        # Load NPY files\n",
    "        file_path = os.path.join(directory, file_name)\n",
    "        loaded_data = np.load(file_path)\n",
    "\n",
    "        data.append(loaded_data)\n",
    "        \n",
    "        # Reshape loaded data and append to a list\n",
    "        #reshaped_data = loaded_data.reshape((1, 32, 64))\n",
    "        # data.append(reshaped_data)\n",
    "\n",
    "    # Converting data and labels to PyTorch Tensors\n",
    "    data = np.array(data)\n",
    "    data = torch.from_numpy(data)\n",
    "    vehicle_ids = torch.tensor(vehicle_ids, dtype=torch.long)\n",
    "    \n",
    "    # Adjust labels to be in range 0 to 1361\n",
    "    if(torch.min(vehicle_ids).item() == 1):\n",
    "        vehicle_ids = vehicle_ids - 1\n",
    "    \n",
    "    return (data, vehicle_ids)"
   ]
  },
  {
   "cell_type": "code",
   "execution_count": 5,
   "id": "875e2b8f-817c-401e-be06-c5559b09c86b",
   "metadata": {},
   "outputs": [
    {
     "name": "stdout",
     "output_type": "stream",
     "text": [
      "loaded 3000\n",
      "loaded 3000\n"
     ]
    }
   ],
   "source": [
    "# Load train data and labels from train directory\n",
    "train_directory = \"vehicle-x/train\"\n",
    "test_directory = \"vehicle-x/test\"\n",
    "\n",
    "train_data, vehicle_ids_train = load_data(train_directory)\n",
    "test_data, vehicle_ids_test = load_data(test_directory)"
   ]
  },
  {
   "cell_type": "code",
   "execution_count": 6,
   "id": "96124e01-f8f5-42ac-b924-ab96a90b90a3",
   "metadata": {},
   "outputs": [],
   "source": [
    "# Hyperparameters\n",
    "num_epochs = 100\n",
    "batch_size = 32\n",
    "test_batch_size = 64\n",
    "learning_rate = 0.01\n",
    "\n",
    "class CustomDataset():\n",
    "    def __init__(self, data_array, labels):\n",
    "        self.data = data_array\n",
    "        self.labels = labels\n",
    "\n",
    "    def __len__(self):\n",
    "        return len(self.data)\n",
    "\n",
    "    def __getitem__(self, idx):\n",
    "        return self.data[idx], self.labels[idx]\n",
    "\n",
    "# Create custom dataset from the tensors\n",
    "train_dataset = CustomDataset(train_data, vehicle_ids_train)\n",
    "train_loader = torch.utils.data.DataLoader(train_dataset, batch_size=batch_size, shuffle=True)\n",
    "\n",
    "test_dataset = CustomDataset(test_data, vehicle_ids_test)\n",
    "test_loader = torch.utils.data.DataLoader(test_dataset, batch_size=test_batch_size, shuffle=True)"
   ]
  },
  {
   "cell_type": "code",
   "execution_count": 7,
   "id": "bb3c0331-c66b-4bbc-9a17-f15022e8efef",
   "metadata": {},
   "outputs": [],
   "source": [
    "# Define the constructive cascade network\n",
    "class CascadeLayer(nn.Module):\n",
    "    def __init__(self, input_size, output_size):\n",
    "        super(CascadeLayer, self).__init__()\n",
    "        self.fc = nn.Linear(input_size, output_size)\n",
    "\n",
    "    def forward(self, x):\n",
    "        return torch.tanh(self.fc(x))\n",
    "\n",
    "class CascadeNN(nn.Module):\n",
    "    def __init__(self, input_size, output_size, initial_hidden_size=128):\n",
    "        super(CascadeNN, self).__init__()\n",
    "        self.cascade_hidden_size = 64\n",
    "        self.input_size = input_size\n",
    "        self.output_size = output_size\n",
    "        self.layers = nn.ModuleList()\n",
    "\n",
    "        # Initial layer\n",
    "        self.layers.append(CascadeLayer(input_size, initial_hidden_size))\n",
    "\n",
    "        # Output layer\n",
    "        self.output_layer = nn.Linear(initial_hidden_size, output_size)\n",
    "\n",
    "    def add_cascade_layer(self):\n",
    "        # The new layer will take input from the last cascade layer and the original input\n",
    "        new_input_size = self.layers[-1].fc.out_features + self.input_size\n",
    "        new_layer = CascadeLayer(new_input_size, self.cascade_hidden_size)\n",
    "        self.layers.append(new_layer)\n",
    "\n",
    "        # Adjust the output layer to accomodate the new cascade layer\n",
    "        self.output_layer = nn.Linear(self.output_layer.in_features + self.cascade_hidden_size, self.output_size)\n",
    "\n",
    "    def forward(self, x):\n",
    "        outputs = [x]\n",
    "\n",
    "        for layer in self.layers:\n",
    "            combined_input = torch.cat(outputs, dim=1)\n",
    "            layer_output = layer(combined_input)\n",
    "            outputs.append(layer_output)\n",
    "\n",
    "        final_combined_input = torch.cat(outputs, dim=1)\n",
    "        logits = self.output_layer(final_combined_input)\n",
    "        return nn.functional.softmax(logits, dim=1)\n",
    "\n",
    "\n",
    "# Device Configuration\n",
    "device = torch.device('cuda' if torch.cuda.is_available() else 'cpu')\n",
    "\n",
    "# Initialise network\n",
    "model = CascadeNN(2048, 1362).to(device)"
   ]
  },
  {
   "cell_type": "code",
   "execution_count": 8,
   "id": "b4b55eaf-7d97-4626-a3b3-9b852eee6900",
   "metadata": {},
   "outputs": [],
   "source": [
    "def train():\n",
    "    model.train()\n",
    "    correct = 0\n",
    "    for batch_idx, (batch_data, batch_labels) in enumerate(train_loader):\n",
    "        batch_data = batch_data.to(device)\n",
    "        batch_labels = batch_labels.to(device)\n",
    "        \n",
    "        optimizer.zero_grad()\n",
    "        outputs = model(batch_data)\n",
    "\n",
    "        pred = outputs.data.max(1, keepdim=True)[1] # get the index of the max log-probability\n",
    "        correct += pred.eq(batch_labels.data.view_as(pred)).long().cpu().sum()\n",
    "        \n",
    "        loss = criterion(outputs, batch_labels)\n",
    "        loss.backward()\n",
    "        optimizer.step()\n",
    "\n",
    "        if (batch_idx + 1) % 500 == 0:\n",
    "            print(f'Epoch [{epoch + 1}/{num_epochs}], step[{batch_idx + 1}], loss: {loss.item():.4f}')\n",
    "\n",
    "    print('Train Accuracy:{}/{}'.format(correct, len(train_loader.dataset)))"
   ]
  },
  {
   "cell_type": "code",
   "execution_count": 9,
   "id": "e2de99dc-9a5f-4452-8255-c62eb5d3876d",
   "metadata": {},
   "outputs": [],
   "source": [
    "def test():\n",
    "    model.eval()\n",
    "    correct = 0\n",
    "\n",
    "    for batch_data, batch_labels in test_loader:\n",
    "        batch_data = batch_data.to(device)\n",
    "        batch_labels = batch_labels.to(device)\n",
    "        \n",
    "        outputs = model(batch_data)\n",
    "        \n",
    "        pred = outputs.data.max(1, keepdim=True)[1] # get the index of the max log-probability\n",
    "        correct += pred.eq(batch_labels.data.view_as(pred)).long().cpu().sum()\n",
    "\n",
    "    print('Test accuracy:{}/{}\\n'.format(correct, len(test_loader.dataset)))"
   ]
  },
  {
   "cell_type": "code",
   "execution_count": 10,
   "id": "19019001-0a73-4e51-b643-cdd3c54bedce",
   "metadata": {},
   "outputs": [
    {
     "ename": "RuntimeError",
     "evalue": "mat1 and mat2 shapes cannot be multiplied (32x2176 and 128x1362)",
     "output_type": "error",
     "traceback": [
      "\u001b[1;31m---------------------------------------------------------------------------\u001b[0m",
      "\u001b[1;31mRuntimeError\u001b[0m                              Traceback (most recent call last)",
      "Cell \u001b[1;32mIn[10], line 6\u001b[0m\n\u001b[0;32m      3\u001b[0m optimizer \u001b[38;5;241m=\u001b[39m optim\u001b[38;5;241m.\u001b[39mSGD(model\u001b[38;5;241m.\u001b[39mparameters(), lr\u001b[38;5;241m=\u001b[39mlearning_rate)\n\u001b[0;32m      5\u001b[0m \u001b[38;5;28;01mfor\u001b[39;00m epoch \u001b[38;5;129;01min\u001b[39;00m \u001b[38;5;28mrange\u001b[39m(num_epochs):\n\u001b[1;32m----> 6\u001b[0m     \u001b[43mtrain\u001b[49m\u001b[43m(\u001b[49m\u001b[43m)\u001b[49m\n\u001b[0;32m      7\u001b[0m     test()\n",
      "Cell \u001b[1;32mIn[8], line 9\u001b[0m, in \u001b[0;36mtrain\u001b[1;34m()\u001b[0m\n\u001b[0;32m      6\u001b[0m batch_labels \u001b[38;5;241m=\u001b[39m batch_labels\u001b[38;5;241m.\u001b[39mto(device)\n\u001b[0;32m      8\u001b[0m optimizer\u001b[38;5;241m.\u001b[39mzero_grad()\n\u001b[1;32m----> 9\u001b[0m outputs \u001b[38;5;241m=\u001b[39m \u001b[43mmodel\u001b[49m\u001b[43m(\u001b[49m\u001b[43mbatch_data\u001b[49m\u001b[43m)\u001b[49m\n\u001b[0;32m     11\u001b[0m pred \u001b[38;5;241m=\u001b[39m outputs\u001b[38;5;241m.\u001b[39mdata\u001b[38;5;241m.\u001b[39mmax(\u001b[38;5;241m1\u001b[39m, keepdim\u001b[38;5;241m=\u001b[39m\u001b[38;5;28;01mTrue\u001b[39;00m)[\u001b[38;5;241m1\u001b[39m] \u001b[38;5;66;03m# get the index of the max log-probability\u001b[39;00m\n\u001b[0;32m     12\u001b[0m correct \u001b[38;5;241m+\u001b[39m\u001b[38;5;241m=\u001b[39m pred\u001b[38;5;241m.\u001b[39meq(batch_labels\u001b[38;5;241m.\u001b[39mdata\u001b[38;5;241m.\u001b[39mview_as(pred))\u001b[38;5;241m.\u001b[39mlong()\u001b[38;5;241m.\u001b[39mcpu()\u001b[38;5;241m.\u001b[39msum()\n",
      "File \u001b[1;32m~\\AppData\\Local\\Packages\\PythonSoftwareFoundation.Python.3.9_qbz5n2kfra8p0\\LocalCache\\local-packages\\Python39\\site-packages\\torch\\nn\\modules\\module.py:1501\u001b[0m, in \u001b[0;36mModule._call_impl\u001b[1;34m(self, *args, **kwargs)\u001b[0m\n\u001b[0;32m   1496\u001b[0m \u001b[38;5;66;03m# If we don't have any hooks, we want to skip the rest of the logic in\u001b[39;00m\n\u001b[0;32m   1497\u001b[0m \u001b[38;5;66;03m# this function, and just call forward.\u001b[39;00m\n\u001b[0;32m   1498\u001b[0m \u001b[38;5;28;01mif\u001b[39;00m \u001b[38;5;129;01mnot\u001b[39;00m (\u001b[38;5;28mself\u001b[39m\u001b[38;5;241m.\u001b[39m_backward_hooks \u001b[38;5;129;01mor\u001b[39;00m \u001b[38;5;28mself\u001b[39m\u001b[38;5;241m.\u001b[39m_backward_pre_hooks \u001b[38;5;129;01mor\u001b[39;00m \u001b[38;5;28mself\u001b[39m\u001b[38;5;241m.\u001b[39m_forward_hooks \u001b[38;5;129;01mor\u001b[39;00m \u001b[38;5;28mself\u001b[39m\u001b[38;5;241m.\u001b[39m_forward_pre_hooks\n\u001b[0;32m   1499\u001b[0m         \u001b[38;5;129;01mor\u001b[39;00m _global_backward_pre_hooks \u001b[38;5;129;01mor\u001b[39;00m _global_backward_hooks\n\u001b[0;32m   1500\u001b[0m         \u001b[38;5;129;01mor\u001b[39;00m _global_forward_hooks \u001b[38;5;129;01mor\u001b[39;00m _global_forward_pre_hooks):\n\u001b[1;32m-> 1501\u001b[0m     \u001b[38;5;28;01mreturn\u001b[39;00m forward_call(\u001b[38;5;241m*\u001b[39margs, \u001b[38;5;241m*\u001b[39m\u001b[38;5;241m*\u001b[39mkwargs)\n\u001b[0;32m   1502\u001b[0m \u001b[38;5;66;03m# Do not call functions when jit is used\u001b[39;00m\n\u001b[0;32m   1503\u001b[0m full_backward_hooks, non_full_backward_hooks \u001b[38;5;241m=\u001b[39m [], []\n",
      "Cell \u001b[1;32mIn[7], line 42\u001b[0m, in \u001b[0;36mCascadeNN.forward\u001b[1;34m(self, x)\u001b[0m\n\u001b[0;32m     39\u001b[0m     outputs\u001b[38;5;241m.\u001b[39mappend(layer_output)\n\u001b[0;32m     41\u001b[0m final_combined_input \u001b[38;5;241m=\u001b[39m torch\u001b[38;5;241m.\u001b[39mcat(outputs, dim\u001b[38;5;241m=\u001b[39m\u001b[38;5;241m1\u001b[39m)\n\u001b[1;32m---> 42\u001b[0m logits \u001b[38;5;241m=\u001b[39m \u001b[38;5;28;43mself\u001b[39;49m\u001b[38;5;241;43m.\u001b[39;49m\u001b[43moutput_layer\u001b[49m\u001b[43m(\u001b[49m\u001b[43mfinal_combined_input\u001b[49m\u001b[43m)\u001b[49m\n\u001b[0;32m     43\u001b[0m \u001b[38;5;28;01mreturn\u001b[39;00m nn\u001b[38;5;241m.\u001b[39mfunctional\u001b[38;5;241m.\u001b[39msoftmax(logits, dim\u001b[38;5;241m=\u001b[39m\u001b[38;5;241m1\u001b[39m)\n",
      "File \u001b[1;32m~\\AppData\\Local\\Packages\\PythonSoftwareFoundation.Python.3.9_qbz5n2kfra8p0\\LocalCache\\local-packages\\Python39\\site-packages\\torch\\nn\\modules\\module.py:1501\u001b[0m, in \u001b[0;36mModule._call_impl\u001b[1;34m(self, *args, **kwargs)\u001b[0m\n\u001b[0;32m   1496\u001b[0m \u001b[38;5;66;03m# If we don't have any hooks, we want to skip the rest of the logic in\u001b[39;00m\n\u001b[0;32m   1497\u001b[0m \u001b[38;5;66;03m# this function, and just call forward.\u001b[39;00m\n\u001b[0;32m   1498\u001b[0m \u001b[38;5;28;01mif\u001b[39;00m \u001b[38;5;129;01mnot\u001b[39;00m (\u001b[38;5;28mself\u001b[39m\u001b[38;5;241m.\u001b[39m_backward_hooks \u001b[38;5;129;01mor\u001b[39;00m \u001b[38;5;28mself\u001b[39m\u001b[38;5;241m.\u001b[39m_backward_pre_hooks \u001b[38;5;129;01mor\u001b[39;00m \u001b[38;5;28mself\u001b[39m\u001b[38;5;241m.\u001b[39m_forward_hooks \u001b[38;5;129;01mor\u001b[39;00m \u001b[38;5;28mself\u001b[39m\u001b[38;5;241m.\u001b[39m_forward_pre_hooks\n\u001b[0;32m   1499\u001b[0m         \u001b[38;5;129;01mor\u001b[39;00m _global_backward_pre_hooks \u001b[38;5;129;01mor\u001b[39;00m _global_backward_hooks\n\u001b[0;32m   1500\u001b[0m         \u001b[38;5;129;01mor\u001b[39;00m _global_forward_hooks \u001b[38;5;129;01mor\u001b[39;00m _global_forward_pre_hooks):\n\u001b[1;32m-> 1501\u001b[0m     \u001b[38;5;28;01mreturn\u001b[39;00m forward_call(\u001b[38;5;241m*\u001b[39margs, \u001b[38;5;241m*\u001b[39m\u001b[38;5;241m*\u001b[39mkwargs)\n\u001b[0;32m   1502\u001b[0m \u001b[38;5;66;03m# Do not call functions when jit is used\u001b[39;00m\n\u001b[0;32m   1503\u001b[0m full_backward_hooks, non_full_backward_hooks \u001b[38;5;241m=\u001b[39m [], []\n",
      "File \u001b[1;32m~\\AppData\\Local\\Packages\\PythonSoftwareFoundation.Python.3.9_qbz5n2kfra8p0\\LocalCache\\local-packages\\Python39\\site-packages\\torch\\nn\\modules\\linear.py:114\u001b[0m, in \u001b[0;36mLinear.forward\u001b[1;34m(self, input)\u001b[0m\n\u001b[0;32m    113\u001b[0m \u001b[38;5;28;01mdef\u001b[39;00m \u001b[38;5;21mforward\u001b[39m(\u001b[38;5;28mself\u001b[39m, \u001b[38;5;28minput\u001b[39m: Tensor) \u001b[38;5;241m-\u001b[39m\u001b[38;5;241m>\u001b[39m Tensor:\n\u001b[1;32m--> 114\u001b[0m     \u001b[38;5;28;01mreturn\u001b[39;00m \u001b[43mF\u001b[49m\u001b[38;5;241;43m.\u001b[39;49m\u001b[43mlinear\u001b[49m\u001b[43m(\u001b[49m\u001b[38;5;28;43minput\u001b[39;49m\u001b[43m,\u001b[49m\u001b[43m \u001b[49m\u001b[38;5;28;43mself\u001b[39;49m\u001b[38;5;241;43m.\u001b[39;49m\u001b[43mweight\u001b[49m\u001b[43m,\u001b[49m\u001b[43m \u001b[49m\u001b[38;5;28;43mself\u001b[39;49m\u001b[38;5;241;43m.\u001b[39;49m\u001b[43mbias\u001b[49m\u001b[43m)\u001b[49m\n",
      "\u001b[1;31mRuntimeError\u001b[0m: mat1 and mat2 shapes cannot be multiplied (32x2176 and 128x1362)"
     ]
    }
   ],
   "source": [
    "# Train the model\n",
    "criterion = nn.NLLLoss()\n",
    "optimizer = optim.SGD(model.parameters(), lr=learning_rate)\n",
    "\n",
    "for epoch in range(num_epochs):\n",
    "    train()\n",
    "    test()"
   ]
  },
  {
   "cell_type": "code",
   "execution_count": null,
   "id": "ea711e4b-53ee-488b-92ce-25feb0791a0e",
   "metadata": {},
   "outputs": [],
   "source": []
  }
 ],
 "metadata": {
  "kernelspec": {
   "display_name": "Python 3 (ipykernel)",
   "language": "python",
   "name": "python3"
  },
  "language_info": {
   "codemirror_mode": {
    "name": "ipython",
    "version": 3
   },
   "file_extension": ".py",
   "mimetype": "text/x-python",
   "name": "python",
   "nbconvert_exporter": "python",
   "pygments_lexer": "ipython3",
   "version": "3.9.13"
  }
 },
 "nbformat": 4,
 "nbformat_minor": 5
}
