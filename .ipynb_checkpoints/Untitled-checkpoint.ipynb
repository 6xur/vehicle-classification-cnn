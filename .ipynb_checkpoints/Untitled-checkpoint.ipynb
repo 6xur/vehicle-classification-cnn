{
 "cells": [
  {
   "cell_type": "code",
   "execution_count": 1,
   "id": "875e2b8f-817c-401e-be06-c5559b09c86b",
   "metadata": {},
   "outputs": [],
   "source": [
    "import numpy as np\n",
    "import os\n",
    "import torch\n",
    "import torch.nn as nn\n",
    "import torch.nn.functional as F\n",
    "import matplotlib.pyplot as plt\n",
    "\n",
    "train_directory = \"vehicle-x/train\"\n",
    "\n",
    "train_data = []\n",
    "vehicle_ids = []\n",
    "\n",
    "# Load numpy arrays and labels from the training directory\n",
    "for i, file_name in enumerate(os.listdir(train_directory)):\n",
    "\n",
    "    # Limit elements in Tensor for testing, remove this when ready for full-scale training\n",
    "    if(i == 3000):\n",
    "        break\n",
    "\n",
    "    # Extract vehicle ID from the filename\n",
    "    vehicle_id = int(file_name.split('_')[0])\n",
    "    vehicle_ids.append(vehicle_id)\n",
    "\n",
    "    # Load npy file\n",
    "    file_path = os.path.join(train_directory, file_name)\n",
    "    loaded_data = np.load(file_path)\n",
    "\n",
    "    # Reshape loaded data and append to list\n",
    "    # TODO: Need to check if this reshape is correct. What is the colour channel?\n",
    "    reshaped_data = loaded_data.reshape((1, 32, 64))\n",
    "    train_data.append(reshaped_data)\n",
    "\n",
    "# Converting training data and labels to PyTorch Tensor\n",
    "train_data = np.array(train_data)\n",
    "train_data = torch.from_numpy(train_data)\n",
    "vehicle_ids = torch.tensor(vehicle_ids, dtype=torch.long)\n",
    "\n",
    "# Adjust labels to be in range 0 to 1361\n",
    "if(torch.min(vehicle_ids).item() == 1):\n",
    "    vehicle_ids = vehicle_ids - 1"
   ]
  },
  {
   "cell_type": "code",
   "execution_count": 2,
   "id": "96124e01-f8f5-42ac-b924-ab96a90b90a3",
   "metadata": {},
   "outputs": [],
   "source": [
    "# Hyperparameters\n",
    "num_epochs = 20\n",
    "batch_size = 32\n",
    "learning_rate = 0.01\n",
    "\n",
    "class CustomDataset():\n",
    "    def __init__(self, data_array, labels):\n",
    "        self.data = data_array\n",
    "        self.labels = labels\n",
    "\n",
    "    def __len__(self):\n",
    "        return len(self.data)\n",
    "\n",
    "    def __getitem__(self, idx):\n",
    "        return self.data[idx], self.labels[idx]\n",
    "\n",
    "# Create custom dataset from the tensors\n",
    "train_dataset = CustomDataset(train_data, vehicle_ids)\n",
    "\n",
    "train_loader = torch.utils.data.DataLoader(train_dataset, batch_size=batch_size, shuffle=True)"
   ]
  },
  {
   "cell_type": "code",
   "execution_count": 3,
   "id": "10952a05-0873-4b2a-b081-c578c258d434",
   "metadata": {},
   "outputs": [],
   "source": [
    "class ConvNet(nn.Module):\n",
    "    def __init__(self):\n",
    "        super(ConvNet, self).__init__()\n",
    "        self.conv1 = nn.Conv2d(1, 6, 5)\n",
    "        self.pool = nn.MaxPool2d(2, 2)\n",
    "        self.conv2 = nn.Conv2d(6, 16, 5)\n",
    "        self.fc1 = nn.Linear(16 * 5 * 13, 120)\n",
    "        self.fc2 = nn.Linear(120, 84)\n",
    "        self.fc3 = nn.Linear(84, 1362)\n",
    "\n",
    "    def forward(self, x):\n",
    "        x = self.pool(F.relu(self.conv1(x)))\n",
    "        x = self.pool(F.relu(self.conv2(x)))\n",
    "        x = x.view(-1, 16 * 5 * 13)\n",
    "        x = F.relu(self.fc1(x))\n",
    "        x = F.relu(self.fc2(x))\n",
    "        x = self.fc3(x)\n",
    "        return x\n",
    "\n",
    "model = ConvNet()\n",
    "\n",
    "criterion = nn.CrossEntropyLoss()\n",
    "optimizer = torch.optim.SGD(model.parameters(), lr=learning_rate)"
   ]
  },
  {
   "cell_type": "code",
   "execution_count": 4,
   "id": "6ee45b01-c08a-4cf4-9879-73f69233e80f",
   "metadata": {},
   "outputs": [],
   "source": [
    "def train():\n",
    "    model.train()\n",
    "    correct = 0\n",
    "\n",
    "    for batch_idx, (images, labels) in enumerate(train_loader):\n",
    "\n",
    "        # Forward pass\n",
    "        outputs = model(images)\n",
    "        loss = criterion(outputs, labels)\n",
    "\n",
    "        pred = outputs.data.max(1, keepdim=True)[1] # get the index of the max log-probability\n",
    "        correct += pred.eq(labels.data.view_as(pred)).long().cpu().sum()\n",
    "\n",
    "        # Backward and optimize\n",
    "        optimizer.zero_grad()\n",
    "        loss.backward()\n",
    "        optimizer.step()\n",
    "\n",
    "\n",
    "        if (batch_idx + 1) % 50 == 0:\n",
    "            print(f'Epoch [{epoch + 1}/{num_epochs}], step[{batch_idx + 1}], loss: {loss.item():.4f}')\n",
    "\n",
    "    print('Accuracy:{}/{}'.format(correct, len(train_loader.dataset)))"
   ]
  },
  {
   "cell_type": "code",
   "execution_count": null,
   "id": "948736de-42f7-4a0f-bf9e-2e93fe43aa55",
   "metadata": {},
   "outputs": [
    {
     "name": "stdout",
     "output_type": "stream",
     "text": [
      "Epoch [1/20], step[50], loss: 7.1789\n",
      "Accuracy:17/3000\n",
      "Epoch [2/20], step[50], loss: 7.1698\n",
      "Accuracy:41/3000\n",
      "Epoch [3/20], step[50], loss: 7.1380\n",
      "Accuracy:43/3000\n",
      "Epoch [4/20], step[50], loss: 5.3064\n",
      "Accuracy:42/3000\n"
     ]
    }
   ],
   "source": [
    "for epoch in range(num_epochs):\n",
    "    train()"
   ]
  },
  {
   "cell_type": "code",
   "execution_count": null,
   "id": "ea711e4b-53ee-488b-92ce-25feb0791a0e",
   "metadata": {},
   "outputs": [],
   "source": []
  }
 ],
 "metadata": {
  "kernelspec": {
   "display_name": "Python 3 (ipykernel)",
   "language": "python",
   "name": "python3"
  },
  "language_info": {
   "codemirror_mode": {
    "name": "ipython",
    "version": 3
   },
   "file_extension": ".py",
   "mimetype": "text/x-python",
   "name": "python",
   "nbconvert_exporter": "python",
   "pygments_lexer": "ipython3",
   "version": "3.9.13"
  }
 },
 "nbformat": 4,
 "nbformat_minor": 5
}
